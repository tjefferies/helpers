{
 "cells": [
  {
   "cell_type": "markdown",
   "metadata": {},
   "source": [
    "**SQLite Class and helper methods**"
   ]
  },
  {
   "cell_type": "code",
   "execution_count": 1,
   "metadata": {
    "ExecuteTime": {
     "end_time": "2020-02-16T23:24:21.038990Z",
     "start_time": "2020-02-16T23:24:21.024441Z"
    },
    "code_folding": []
   },
   "outputs": [],
   "source": [
    "import string\n",
    "import os\n",
    "import sqlite3\n",
    "from string import Template\n",
    "\n",
    "\n",
    "def create_SQLite_connection(db):\n",
    "    \"\"\" create a database connection to a SQLite database.\n",
    "    \"\"\"\n",
    "    if type(db) != str:\n",
    "        raise TypeError('db parameter must be str.')\n",
    "    try:\n",
    "        conn = sqlite3.connect(db)\n",
    "    except Error as e:\n",
    "        print(e)\n",
    "    return conn\n",
    "\n",
    "\n",
    "class SQLiteQuery(object):\n",
    "    def __init__(self, conn, query):\n",
    "        \"\"\"SQLite class used to query.\n",
    "        \n",
    "        Args:\n",
    "            conn (:obj:`sqlite3.Connection`): SQLite database connection created using `create_SQLite_connection` method.\n",
    "            query (:obj:`str`): Query to run using `sqlite3.Connection` object.\n",
    "        \"\"\"\n",
    "        self._conn = conn\n",
    "        self._query = query\n",
    "        \n",
    "    def run_query(self):\n",
    "        \"\"\"Runs self._query using self._conn.\n",
    "        \n",
    "        Uses:\n",
    "            self._conn (:obj:`sqlite3.Connection`): SQLite database connection created using `create_SQLite_connection` method.\n",
    "            self._query (:obj:`str`): Query to run using `sqlite3.Connection` object.\n",
    "        \"\"\"\n",
    "        cursor = self._conn.cursor()\n",
    "        cursor.execute(self._query)\n",
    "        print('query ran successfully!')\n",
    "        cursor.close()\n",
    "        \n",
    "    def run_query_return_list_of_dicts(self):\n",
    "        \"\"\"Runs self._query using self._conn returns a list_of_dicts.\n",
    "        \n",
    "        Uses:\n",
    "            self._conn (:obj:`sqlite3.Connection`): SQLite database connection created using `create_SQLite_connection` method.\n",
    "            self._query (:obj:`str`): Query to run using `sqlite3.Connection` object.\n",
    "            \n",
    "        Returns:\n",
    "            list_of_dicts (:obj:`list` of type `dict`): List of dictionaries returned by running self._query\n",
    "        \"\"\"\n",
    "        list_of_dicts = list()\n",
    "        cursor = self._conn.cursor()\n",
    "        \n",
    "        for row in cursor.execute(self._query):\n",
    "            d = dict(zip(next(zip(*cursor.description)), row))\n",
    "            list_of_dicts.append(d)\n",
    "            \n",
    "        cursor.close()\n",
    "        return list_of_dicts\n",
    "    \n",
    "    @property\n",
    "    def query(self):\n",
    "        \"\"\"query (:obj:`str`): Query to run using `sqlite3.Connection`.\"\"\"\n",
    "        return self._query\n",
    "\n",
    "    @query.setter\n",
    "    def query(self, query):\n",
    "        if type(query) != str:\n",
    "            raise TypeError('query parameter must be str.')\n",
    "        self._query = query\n",
    "\n",
    "    @property\n",
    "    def conn(self):\n",
    "        \"\"\"conn (:obj:`sqlite3.Connection`): SQLite database connection created using `create_SQLite_connection` method.\"\"\"\n",
    "        return self._conn\n",
    "\n",
    "    @conn.setter\n",
    "    def conn(self, conn):\n",
    "        if type(conn) != sqlite3.Connection:\n",
    "            raise TypeError('conn parameter must be type sqlite3.Connection.')\n",
    "        self._conn = conn"
   ]
  },
  {
   "cell_type": "markdown",
   "metadata": {},
   "source": [
    "**Neo4j Class and helper methods**"
   ]
  },
  {
   "cell_type": "code",
   "execution_count": 2,
   "metadata": {
    "ExecuteTime": {
     "end_time": "2020-02-16T23:24:21.060695Z",
     "start_time": "2020-02-16T23:24:21.045721Z"
    }
   },
   "outputs": [],
   "source": [
    "def create_string_from_file(file_path):\n",
    "    \"\"\"Reads and returns a string from a file path.\n",
    "    \n",
    "    Args:\n",
    "        file_path (:obj:`str`): File path of the file to be read into a string.\n",
    "    \n",
    "    Return:\n",
    "        s (:obj:`str`): String representation of the contents of the input file located at `file_path`.\n",
    "    \"\"\"\n",
    "    with open(file_path, 'r') as file:\n",
    "        s = file.read().replace('\\n', '')\n",
    "    return s\n",
    "\n",
    "def populate_cypher_query_template_from_file(cypher_query_template_file_path, print_cypher_query_template=False):\n",
    "    \"\"\"Populates and Returns a user provided Cypher query with values read from file specified at `cypher_query_template_file_path`.\n",
    "    \n",
    "    Args:\n",
    "        cypher_query_template_file_path (:obj:`str`): File path of the .cql query with \"$\"-based substitution characters present.\n",
    "        print_cypher_query_template (:obj:`bool`): Print string representation of the contents of the input file located at `cypher_query_template_file_path`.\n",
    "        \n",
    "    Return:\n",
    "        cypher_query_template (:obj:`string.Template`): string.Template with \"$\"-based substitution characters present.\n",
    "    \"\"\"\n",
    "    cypher_query_template = create_string_from_file(cypher_query_template_file_path)\n",
    "    if print_cypher_query_template:\n",
    "        print(cypher_query_template)\n",
    "    return Template(cypher_query_template)\n",
    "\n",
    "def populate_cypher_query_template_with_values_in_dict(cypher_query_template, dictionary):\n",
    "    \"\"\"Populates and Returns a user provided Cypher query with values plucked from a `dictionary`.\n",
    "    \n",
    "    Args:\n",
    "        cypher_query_template (:obj:`string.Template`): string.Template to populate with values.\n",
    "        dictionary (:obj:`dict`): dict of form { \"$\"-based substitution: value to be passed to string.Template }.\n",
    "    \n",
    "    Return:\n",
    "        query (:obj:`str`): Input `cypher_query_template` returned with values passed to \"$\"-based substitutions present.\n",
    "    \"\"\"\n",
    "    if type(cypher_query_template) != string.Template:\n",
    "        raise TypeError('cypher_query_template parameter must be string.Template.')\n",
    "    if type(dictionary) != dict:\n",
    "        raise TypeError('dictionary parameter must be dict.')\n",
    "    query = cypher_query_template.substitute(dictionary)\n",
    "    return query\n",
    "\n",
    "def list_of_dicts_to_list_of_cypher_queries(cypher_query_template, list_of_dicts):\n",
    "    \"\"\"Populates and Returns a list of cypher queries from an input `list_of_dicts`.\n",
    "    \n",
    "    Args:\n",
    "        cypher_query_template (:obj:`string._TemplateMetaclass`): string.Template\n",
    "        list_of_dicts (:obj:`list` of type `dict`): List of dicts with form { \"$\"-based substitution: value to be passed to string.Template }\n",
    "    \n",
    "    Uses:\n",
    "        `populate_cypher_query_template_with_values_in_dict` method\n",
    "    \n",
    "    Return:\n",
    "        list_of_cypher_queries (:obj:`list` of type `str`): List of strings of `cypher_query_template` returned with values passed to \"$\"-based substitutions present.\n",
    "    \"\"\"\n",
    "    \n",
    "    if type(cypher_query_template) != string.Template:\n",
    "        raise TypeError('cypher_query_template parameter must be string.Template.')\n",
    "    if type(list_of_dicts) != list:\n",
    "        raise TypeError('list_of_dicts parameter must be list of dicts.')\n",
    "    if not all(isinstance(d,dict) for d in list_of_dicts):\n",
    "        raise TypeError('list_of_dicts parameter must be list of dicts.')\n",
    "    \n",
    "    list_of_cypher_queries = list()\n",
    "    \n",
    "    for d in list_of_dicts:\n",
    "        query = populate_cypher_query_template_with_values_in_dict(cypher_query_template, d)\n",
    "        list_of_cypher_queries.append(query)\n",
    "        \n",
    "    return list_of_cypher_queries\n",
    "\n",
    "def fill_in_cypher_query_template_from_sqlite_query_results(sqlite_db_path, sqlite_query, cypher_query_template, cypher_statement_delimiter=\"\\n\"):\n",
    "    \"\"\" Populates and returns a cypher_query_template populated from an input `sqlite_query`.\n",
    "        1) Establishes a sqlite3.Connection using sqlite database located at `sqlite_db_path`\n",
    "        2) Executes `sqlite_query` using a sqlite3.Connection => returns list_of_dicts\n",
    "        3) Populates Cypher query template `cypher_query_template` using list_of_dicts => returns list_of_cypher_queries\n",
    "        4) Returns list_of_cypher_queries delimited by `cypher_statement_delimiter`\n",
    "    \n",
    "    Args:\n",
    "        sqlite_db_path (:obj:`str`): Path of a sqlite database to run `sqlite_query` against.\n",
    "        sqlite_query (:obj:`str`): SQL query to run against `sqlite_db_path`\n",
    "        cypher_query_template (:obj:`string.Template`): string.Template with \"$\"-based substitution characters present.\n",
    "        cypher_statement_delimiter (:obj:`str`): Delimiter to use to seperate Cypher statements\n",
    "        \n",
    "    Uses:\n",
    "        `create_SQLite_connection` method\n",
    "        `SQLiteQuery` class\n",
    "            `run_query_return_list_of_dicts` method\n",
    "        `list_of_dicts_to_list_of_cypher_queries` method\n",
    "        \n",
    "    Return:\n",
    "        cypher_query_string (:obj:`str`): String returned with values passed to \"$\"-based substitutions present.\n",
    "    \"\"\"\n",
    "    with create_SQLite_connection(sqlite_db_path) as conn:\n",
    "        list_of_dicts = SQLiteQuery(conn,sqlite_query).run_query_return_list_of_dicts()\n",
    "    list_of_cypher_queries = list_of_dicts_to_list_of_cypher_queries(cypher_query_template, list_of_dicts)\n",
    "    cypher_query_string = cypher_statement_delimiter.join(list_of_cypher_queries)\n",
    "    return cypher_query_string"
   ]
  },
  {
   "cell_type": "markdown",
   "metadata": {},
   "source": [
    "**Example Usage from Static `list_of_dicts`:**"
   ]
  },
  {
   "cell_type": "code",
   "execution_count": 3,
   "metadata": {
    "ExecuteTime": {
     "end_time": "2020-02-16T23:24:21.074258Z",
     "start_time": "2020-02-16T23:24:21.063251Z"
    }
   },
   "outputs": [
    {
     "name": "stdout",
     "output_type": "stream",
     "text": [
      "Blank Cypher Query Template String:\n",
      "\n",
      "MERGE (p:Project {id:$id})\n",
      "\n",
      "Filled in Cypher Query Template String:\n",
      "\n",
      "MERGE (p:Project {id:1})\n",
      "MERGE (p:Project {id:2})\n",
      "MERGE (p:Project {id:3})\n",
      "MERGE (p:Project {id:4})\n"
     ]
    }
   ],
   "source": [
    "cypher_query_template_path = os.path.join(os.getcwd(),'query.cql')\n",
    "\n",
    "print('Blank Cypher Query Template String:\\n')\n",
    "\n",
    "cypher_query_template = populate_cypher_query_template_from_file(cypher_query_template_path, True)\n",
    "\n",
    "list_of_dicts = [\n",
    " {'id': 1,\n",
    "  'name': 'fam training',\n",
    "  'begin_date': '2020-02-01',\n",
    "  'end_date': '2020-02-10'},\n",
    "    \n",
    " {'id': 2,\n",
    "  'name': 'project1',\n",
    "  'begin_date': '2020-02-01',\n",
    "  'end_date': '2020-03-01'},\n",
    "    \n",
    " {'id': 3,\n",
    "  'name': 'project2',\n",
    "  'begin_date': '2020-02-15',\n",
    "  'end_date': '2020-04-01'},\n",
    "    \n",
    " {'id': 4,\n",
    "  'name': 'project3',\n",
    "  'begin_date': '2020-03-15',\n",
    "  'end_date': '2020-05-01'}\n",
    "]\n",
    "\n",
    "list_of_cypher_queries = list_of_dicts_to_list_of_cypher_queries(cypher_query_template, list_of_dicts)\n",
    "\n",
    "print('\\nFilled in Cypher Query Template String:\\n')\n",
    "print(\"\\n\".join(list_of_cypher_queries))"
   ]
  },
  {
   "cell_type": "markdown",
   "metadata": {},
   "source": [
    "**Example Usage from result fetched from SQLite Database:**"
   ]
  },
  {
   "cell_type": "code",
   "execution_count": 4,
   "metadata": {
    "ExecuteTime": {
     "end_time": "2020-02-16T23:24:21.092340Z",
     "start_time": "2020-02-16T23:24:21.076686Z"
    }
   },
   "outputs": [
    {
     "name": "stdout",
     "output_type": "stream",
     "text": [
      "Blank Cypher Query Template String:\n",
      "\n",
      "MERGE (p:Project {id:$id})\n",
      "\n",
      "Filled in Cypher Query Template String:\n",
      "\n",
      "MERGE (p:Project {id:1})\n",
      "MERGE (p:Project {id:2})\n",
      "MERGE (p:Project {id:3})\n",
      "MERGE (p:Project {id:4})\n"
     ]
    }
   ],
   "source": [
    "temp_db_path = os.path.join(os.getcwd(),'temp.db')\n",
    "sqlite_query_path = os.path.join(os.getcwd(),'select_statement_projects.sql')\n",
    "cypher_query_template_path = os.path.join(os.getcwd(),'query.cql')\n",
    "\n",
    "print('Blank Cypher Query Template String:\\n')\n",
    "\n",
    "cypher_query_template = populate_cypher_query_template_from_file(cypher_query_template_path, True)\n",
    "sqlite_query = create_string_from_file(sqlite_query_path)\n",
    "\n",
    "cypher_query_string = fill_in_cypher_query_template_from_sqlite_query_results(temp_db_path, sqlite_query, cypher_query_template)\n",
    "\n",
    "print('\\nFilled in Cypher Query Template String:\\n')\n",
    "print(cypher_query_string)"
   ]
  }
 ],
 "metadata": {
  "kernelspec": {
   "display_name": "Python 3",
   "language": "python",
   "name": "python3"
  },
  "language_info": {
   "codemirror_mode": {
    "name": "ipython",
    "version": 3
   },
   "file_extension": ".py",
   "mimetype": "text/x-python",
   "name": "python",
   "nbconvert_exporter": "python",
   "pygments_lexer": "ipython3",
   "version": "3.7.5"
  },
  "latex_envs": {
   "LaTeX_envs_menu_present": true,
   "autoclose": false,
   "autocomplete": true,
   "bibliofile": "biblio.bib",
   "cite_by": "apalike",
   "current_citInitial": 1,
   "eqLabelWithNumbers": true,
   "eqNumInitial": 1,
   "hotkeys": {
    "equation": "Ctrl-E",
    "itemize": "Ctrl-I"
   },
   "labels_anchors": false,
   "latex_user_defs": false,
   "report_style_numbering": false,
   "user_envs_cfg": false
  },
  "toc": {
   "base_numbering": 1,
   "nav_menu": {},
   "number_sections": true,
   "sideBar": true,
   "skip_h1_title": false,
   "title_cell": "Table of Contents",
   "title_sidebar": "Contents",
   "toc_cell": false,
   "toc_position": {},
   "toc_section_display": true,
   "toc_window_display": false
  },
  "varInspector": {
   "cols": {
    "lenName": 16,
    "lenType": 16,
    "lenVar": 40
   },
   "kernels_config": {
    "python": {
     "delete_cmd_postfix": "",
     "delete_cmd_prefix": "del ",
     "library": "var_list.py",
     "varRefreshCmd": "print(var_dic_list())"
    },
    "r": {
     "delete_cmd_postfix": ") ",
     "delete_cmd_prefix": "rm(",
     "library": "var_list.r",
     "varRefreshCmd": "cat(var_dic_list()) "
    }
   },
   "types_to_exclude": [
    "module",
    "function",
    "builtin_function_or_method",
    "instance",
    "_Feature"
   ],
   "window_display": false
  }
 },
 "nbformat": 4,
 "nbformat_minor": 4
}
